{
 "cells": [
  {
   "cell_type": "code",
   "execution_count": null,
   "metadata": {
    "scrolled": true
   },
   "outputs": [
    {
     "name": "stdout",
     "output_type": "stream",
     "text": [
      "env: CUDA_VISIBLE_DEVICES=\n",
      "INFO:tensorflow:Prefetching values from 4 files matching /dataset/mscoco/tb-data/val-?????-of-00004\n",
      "INFO:tensorflow:Starting evaluation at 2017-06-15-11:05:10\n",
      "2017-06-15 11:05:10.884698: W tensorflow/core/platform/cpu_feature_guard.cc:45] The TensorFlow library wasn't compiled to use SSE4.1 instructions, but these are available on your machine and could speed up CPU computations.\n",
      "2017-06-15 11:05:10.884730: W tensorflow/core/platform/cpu_feature_guard.cc:45] The TensorFlow library wasn't compiled to use SSE4.2 instructions, but these are available on your machine and could speed up CPU computations.\n",
      "2017-06-15 11:05:10.884742: W tensorflow/core/platform/cpu_feature_guard.cc:45] The TensorFlow library wasn't compiled to use AVX instructions, but these are available on your machine and could speed up CPU computations.\n",
      "2017-06-15 11:05:10.886704: E tensorflow/stream_executor/cuda/cuda_driver.cc:405] failed call to cuInit: CUDA_ERROR_NO_DEVICE\n",
      "2017-06-15 11:05:10.886746: I tensorflow/stream_executor/cuda/cuda_diagnostics.cc:158] retrieving CUDA diagnostic information for host: 0edcb41270c0\n",
      "2017-06-15 11:05:10.886758: I tensorflow/stream_executor/cuda/cuda_diagnostics.cc:165] hostname: 0edcb41270c0\n",
      "2017-06-15 11:05:10.886803: I tensorflow/stream_executor/cuda/cuda_diagnostics.cc:189] libcuda reported version is: 375.39.0\n",
      "2017-06-15 11:05:10.886836: I tensorflow/stream_executor/cuda/cuda_diagnostics.cc:369] driver version file contents: \"\"\"NVRM version: NVIDIA UNIX x86_64 Kernel Module  375.39  Tue Jan 31 20:47:00 PST 2017\n",
      "GCC version:  gcc version 5.4.0 20160609 (Ubuntu 5.4.0-6ubuntu1~16.04.4) \n",
      "\"\"\"\n",
      "2017-06-15 11:05:10.886854: I tensorflow/stream_executor/cuda/cuda_diagnostics.cc:193] kernel reported version is: 375.39.0\n",
      "2017-06-15 11:05:10.886865: I tensorflow/stream_executor/cuda/cuda_diagnostics.cc:300] kernel version seems to match DSO: 375.39.0\n",
      "INFO:tensorflow:Loading model from checkpoint: /home/ipython/im2txt/tb-log/model/train/model.ckpt-9339\n",
      "INFO:tensorflow:Restoring parameters from /home/ipython/im2txt/tb-log/model/train/model.ckpt-9339\n",
      "INFO:tensorflow:Successfully loaded model.ckpt-9339 at global step = 9339.\n",
      "INFO:tensorflow:Computed losses for 1 of 317 batches.\n",
      "INFO:tensorflow:Computed losses for 101 of 317 batches.\n",
      "INFO:tensorflow:Computed losses for 201 of 317 batches.\n",
      "INFO:tensorflow:Computed losses for 301 of 317 batches.\n",
      "INFO:tensorflow:Perplexity = 15.385335 (4.1e+03 sec)\n",
      "INFO:tensorflow:Finished processing evaluation at global step 9339.\n",
      "INFO:tensorflow:Starting evaluation at 2017-06-15-12:14:23\n",
      "INFO:tensorflow:Loading model from checkpoint: /home/ipython/im2txt/tb-log/model/train/model.ckpt-16988\n",
      "INFO:tensorflow:Restoring parameters from /home/ipython/im2txt/tb-log/model/train/model.ckpt-16988\n",
      "INFO:tensorflow:Successfully loaded model.ckpt-16988 at global step = 16988.\n",
      "INFO:tensorflow:Computed losses for 1 of 317 batches.\n",
      "INFO:tensorflow:Computed losses for 101 of 317 batches.\n",
      "INFO:tensorflow:Computed losses for 201 of 317 batches.\n",
      "INFO:tensorflow:Computed losses for 301 of 317 batches.\n",
      "INFO:tensorflow:Starting evaluation at 2017-06-15-13:23:46\n",
      "INFO:tensorflow:Loading model from checkpoint: /home/ipython/im2txt/tb-log/model/train/model.ckpt-25888\n",
      "INFO:tensorflow:Restoring parameters from /home/ipython/im2txt/tb-log/model/train/model.ckpt-25888\n",
      "INFO:tensorflow:Successfully loaded model.ckpt-25888 at global step = 25889.\n",
      "INFO:tensorflow:Computed losses for 1 of 317 batches.\n",
      "INFO:tensorflow:Computed losses for 101 of 317 batches.\n",
      "INFO:tensorflow:Computed losses for 201 of 317 batches.\n",
      "INFO:tensorflow:Computed losses for 301 of 317 batches.\n",
      "INFO:tensorflow:Perplexity = 12.011318 (4.2e+03 sec)\n",
      "INFO:tensorflow:Finished processing evaluation at global step 25889.\n",
      "INFO:tensorflow:Starting evaluation at 2017-06-15-14:34:53\n",
      "INFO:tensorflow:Loading model from checkpoint: /home/ipython/im2txt/tb-log/model/train/model.ckpt-34760\n",
      "INFO:tensorflow:Restoring parameters from /home/ipython/im2txt/tb-log/model/train/model.ckpt-34760\n",
      "INFO:tensorflow:Successfully loaded model.ckpt-34760 at global step = 34760.\n",
      "INFO:tensorflow:Computed losses for 1 of 317 batches.\n",
      "INFO:tensorflow:Computed losses for 101 of 317 batches.\n",
      "INFO:tensorflow:Computed losses for 201 of 317 batches.\n",
      "INFO:tensorflow:Computed losses for 301 of 317 batches.\n",
      "INFO:tensorflow:Perplexity = 11.429114 (5.9e+03 sec)\n",
      "INFO:tensorflow:Finished processing evaluation at global step 34760.\n",
      "INFO:tensorflow:Starting evaluation at 2017-06-15-16:13:23\n",
      "INFO:tensorflow:Loading model from checkpoint: /home/ipython/im2txt/tb-log/model/train/model.ckpt-46565\n",
      "INFO:tensorflow:Restoring parameters from /home/ipython/im2txt/tb-log/model/train/model.ckpt-46565\n",
      "INFO:tensorflow:Successfully loaded model.ckpt-46565 at global step = 46565.\n",
      "INFO:tensorflow:Computed losses for 1 of 317 batches.\n"
     ]
    }
   ],
   "source": [
    "MSCOCO_DIR=\"/dataset/mscoco/tb-data\"\n",
    "MODEL_DIR=\"/home/ipython/im2txt/tb-log/model\"\n",
    "\n",
    "# Ignore GPU devices (only necessary if your GPU is currently memory\n",
    "# constrained, for example, by running the training script).\n",
    "%env CUDA_VISIBLE_DEVICES=\n",
    "\n",
    "# Run the evaluation script. This will run in a loop, periodically loading the\n",
    "# latest model checkpoint file and computing evaluation metrics.\n",
    "!bazel-bin/im2txt/evaluate \\\n",
    "  --input_file_pattern={MSCOCO_DIR}/val-?????-of-00004 \\\n",
    "  --checkpoint_dir={MODEL_DIR}/train \\\n",
    "  --eval_dir={MODEL_DIR}/eval"
   ]
  },
  {
   "cell_type": "code",
   "execution_count": null,
   "metadata": {
    "collapsed": true
   },
   "outputs": [],
   "source": []
  }
 ],
 "metadata": {
  "kernelspec": {
   "display_name": "Python 2",
   "language": "python",
   "name": "python2"
  },
  "language_info": {
   "codemirror_mode": {
    "name": "ipython",
    "version": 2
   },
   "file_extension": ".py",
   "mimetype": "text/x-python",
   "name": "python",
   "nbconvert_exporter": "python",
   "pygments_lexer": "ipython2",
   "version": "2.7.12"
  }
 },
 "nbformat": 4,
 "nbformat_minor": 2
}
